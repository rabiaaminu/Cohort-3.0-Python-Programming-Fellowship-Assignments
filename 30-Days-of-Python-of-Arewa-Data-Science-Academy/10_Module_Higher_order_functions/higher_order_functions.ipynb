{
 "cells": [
  {
   "cell_type": "markdown",
   "metadata": {},
   "source": [
    "# Higher Order Functions"
   ]
  },
  {
   "cell_type": "markdown",
   "metadata": {},
   "source": [
    "### Exercises: Level 1"
   ]
  },
  {
   "cell_type": "markdown",
   "metadata": {},
   "source": [
    "Task 1: Explain the difference between map, filter, and reduce."
   ]
  },
  {
   "cell_type": "markdown",
   "metadata": {},
   "source": [
    "**Map**: The `map()` function applies a given function to each item in an iterable, transforming all the items (e.g., squaring numbers).\n",
    "\n",
    "**Filter**: The `filter()` function selects items from an iterable based on a condition, keeping only those that satisfy it (e.g., filtering even numbers).\n",
    "\n",
    "**Reduce**: The `reduce()` function combines all items in an iterable into a single value using a specified operation (e.g., multiplying all numbers).\n",
    "\n",
    "While `map` focuses on transformation, `filter` focuses on selection, and `reduce` focuses on aggregation."
   ]
  },
  {
   "cell_type": "markdown",
   "metadata": {},
   "source": [
    "Task 2: Explain the difference between higher order function, closure and decorator"
   ]
  },
  {
   "cell_type": "markdown",
   "metadata": {},
   "source": [
    "**Higher Order Function**: A higher order function is a function that takes other functions as arguments or returns them as results, enabling flexible and reusable code.\n",
    "\n",
    "**Closure**: A closure is a function that retains access to variables from its defining scope even after that scope has exited, allowing the creation of functions with private data.\n",
    "\n",
    "**Decorator**: A decorator is a specialized higher-order function used to modify or extend the behavior of another function, often for purposes like logging or access control."
   ]
  },
  {
   "cell_type": "markdown",
   "metadata": {},
   "source": [
    "Task 3: Define a call function before map, filter or reduce."
   ]
  },
  {
   "cell_type": "code",
   "execution_count": null,
   "metadata": {},
   "outputs": [],
   "source": [
    "numbers = [1, 2, 3, 4, 5, 6, 7, 8, 9]\n",
    "\n",
    "def is_even(number):\n",
    "    if number % 2 == 0:\n",
    "        return True\n",
    "    return False\n",
    "\n",
    "even_numbers = list(filter(is_even, numbers))\n",
    "print(even_numbers)"
   ]
  },
  {
   "cell_type": "markdown",
   "metadata": {},
   "source": [
    "Task 4: Use for loop to print each country in the countries list."
   ]
  },
  {
   "cell_type": "code",
   "execution_count": null,
   "metadata": {},
   "outputs": [],
   "source": [
    "countries = ['Estonia', 'Finland', 'Sweden', 'Denmark', 'Norway', 'Iceland']\n",
    "for country in countries:\n",
    "    print(country)"
   ]
  },
  {
   "cell_type": "markdown",
   "metadata": {},
   "source": [
    "Task 5: Use for to print each name in the names list."
   ]
  },
  {
   "cell_type": "code",
   "execution_count": null,
   "metadata": {},
   "outputs": [],
   "source": [
    "names = ['Asabeneh', 'Lidiya', 'Ermias', 'Abraham']\n",
    "for name in names:\n",
    "    print(name)"
   ]
  },
  {
   "cell_type": "markdown",
   "metadata": {},
   "source": [
    "Task 6: Use for to print each number in the numbers list."
   ]
  },
  {
   "cell_type": "code",
   "execution_count": null,
   "metadata": {},
   "outputs": [],
   "source": [
    "numbers = [1, 2, 3, 4, 5, 6, 7, 8, 9, 10]\n",
    "for number in numbers:\n",
    "    print(number)"
   ]
  },
  {
   "cell_type": "markdown",
   "metadata": {},
   "source": [
    "### Exercise: Level 2"
   ]
  },
  {
   "cell_type": "markdown",
   "metadata": {},
   "source": [
    "Task 1: Use map to create a new list by changing each country to uppercase in the countries list"
   ]
  },
  {
   "cell_type": "code",
   "execution_count": null,
   "metadata": {},
   "outputs": [],
   "source": [
    "countries = ['Estonia', 'Finland', 'Sweden', 'Denmark', 'Norway', 'Iceland']\n",
    "uppercase_countries = list(map(lambda x: x.upper(), countries))\n",
    "print(uppercase_countries)    # ['ESTONIA', 'FINLAND', 'SWEDEN', 'DENMARK', 'NORWAY', 'ICELAND']"
   ]
  },
  {
   "cell_type": "markdown",
   "metadata": {},
   "source": [
    "Task 2: Use map to create a new list by changing each number to its square in the numbers list"
   ]
  },
  {
   "cell_type": "code",
   "execution_count": null,
   "metadata": {},
   "outputs": [],
   "source": [
    "numbers = [1, 2, 3, 4, 5, 6, 7, 8, 9]\n",
    "squared_numbers = list(map(lambda x: x ** 2, numbers))\n",
    "print(squared_numbers)    # [1, 4, 9, 16, 25, 36, 49, 64, 81]"
   ]
  },
  {
   "cell_type": "markdown",
   "metadata": {},
   "source": [
    "Task 3: Use map to change each name to uppercase in the names list"
   ]
  },
  {
   "cell_type": "code",
   "execution_count": null,
   "metadata": {},
   "outputs": [],
   "source": [
    "names = ['Asabeneh', 'Lidiya', 'Ermias', 'Abraham']\n",
    "uppercase_names = list(map(lambda x: x.upper(), names))\n",
    "print(uppercase_names)    # ['ASABENEH', 'LIDIYA', 'ERMIAS', 'ABRAHAM']"
   ]
  },
  {
   "cell_type": "markdown",
   "metadata": {},
   "source": [
    "Task 4: Use filter to filter out countries containing 'land'."
   ]
  },
  {
   "cell_type": "code",
   "execution_count": null,
   "metadata": {},
   "outputs": [],
   "source": [
    "countries = ['Estonia', 'Finland', 'Sweden', 'Denmark', 'Norway', 'Iceland']\n",
    "contains_land = list(filter(lambda x: 'land' in x, countries))\n",
    "print(contains_land)    # ['Finland', 'Iceland']"
   ]
  },
  {
   "cell_type": "markdown",
   "metadata": {},
   "source": [
    "Task 5: Use filter to filter out countries having exactly six characters."
   ]
  },
  {
   "cell_type": "code",
   "execution_count": null,
   "metadata": {},
   "outputs": [],
   "source": [
    "countries = ['Estonia', 'Finland', 'Sweden', 'Denmark', 'Norway', 'Iceland']\n",
    "six_chars_countries = list(filter(lambda x: len(x) == 6, countries))\n",
    "print(six_chars_countries)    # ['Sweden', 'Norway']"
   ]
  },
  {
   "cell_type": "markdown",
   "metadata": {},
   "source": [
    "Task 6: Use filter to filter out countries containing six letters and more in the country list."
   ]
  },
  {
   "cell_type": "code",
   "execution_count": null,
   "metadata": {},
   "outputs": [],
   "source": [
    "countries = ['USA', 'Estonia', 'Finland', 'Sweden', 'Denmark', 'Norway']\n",
    "min_six_chars_countries = list(filter(lambda x: len(x) >= 6, countries))\n",
    "print(min_six_chars_countries)    # ['Estonia', 'Finland', 'Sweden'\n",
    "# , 'Denmark', 'Norway']"
   ]
  },
  {
   "cell_type": "markdown",
   "metadata": {},
   "source": [
    "Task 7: Use filter to filter out countries starting with an 'E'"
   ]
  },
  {
   "cell_type": "code",
   "execution_count": null,
   "metadata": {},
   "outputs": [],
   "source": [
    "countries = ['Estonia', 'Finland', 'Sweden', 'Denmark', 'Norway', 'Iceland']\n",
    "starts_with_E = list(filter(lambda x: x[0].upper() == 'E', countries))\n",
    "print(starts_with_E)    # ['Estonia']"
   ]
  },
  {
   "cell_type": "markdown",
   "metadata": {},
   "source": [
    "Task 8: Chain two or more list iterators (eg. arr.map(callback).filter(callback).reduce(callback))"
   ]
  },
  {
   "cell_type": "code",
   "execution_count": null,
   "metadata": {},
   "outputs": [],
   "source": [
    "countries = ['Estonia', 'Finland', 'Sweden', 'Denmark', 'Norway', 'Iceland']\n",
    "chained_operations = list(filter(\n",
    "                                lambda x: len(x) == 6,\n",
    "                                map(\n",
    "                                    lambda x: x.upper(),\n",
    "                                    countries)\n",
    "                                )\n",
    "                            )\n",
    "print(chained_operations)    # ['SWEDEN', 'NORWAY']"
   ]
  },
  {
   "cell_type": "markdown",
   "metadata": {},
   "source": [
    "Task 9: Declare a function called get_string_lists which takes a list as a parameter and then returns a list containing only string items."
   ]
  },
  {
   "cell_type": "code",
   "execution_count": null,
   "metadata": {},
   "outputs": [],
   "source": [
    "def get_string_lists(lst):\n",
    "    return [i for i in lst if type(i) == str]\n",
    "lst = [1, 'Python', 3, True, 'Hello', 5, 6.7]\n",
    "string_list = get_string_lists(lst)\n",
    "print(string_list)    # ['Python', 'Hello']"
   ]
  },
  {
   "cell_type": "markdown",
   "metadata": {},
   "source": [
    "Task 10: Use reduce to sum all the numbers in the numbers list."
   ]
  },
  {
   "cell_type": "code",
   "execution_count": null,
   "metadata": {},
   "outputs": [],
   "source": [
    "from functools import reduce\n",
    "numbers = [1, 2, 3, 4, 5, 6, 7, 8, 9]\n",
    "result = reduce(lambda x, y: x + y, numbers, 0)\n",
    "print(result)   # 45"
   ]
  },
  {
   "cell_type": "markdown",
   "metadata": {},
   "source": [
    "Task 11: Use reduce to concatenate all the countries and to produce this sentence: Estonia, Finland, Sweden, Denmark, Norway, and Iceland are north European countries"
   ]
  },
  {
   "cell_type": "code",
   "execution_count": null,
   "metadata": {},
   "outputs": [],
   "source": [
    "countries = ['Estonia', 'Finland', 'Sweden', 'Denmark', 'Norway', 'Iceland']\n",
    "join_strings = lambda x, y: y if x == \"\" else f\"{x}, and {y}\" if y == countries[-1] else f\"{x}, {y}\"\n",
    "sentense = reduce(join_strings, countries, '') +\" are north European countries.\"\n",
    "print(sentense)"
   ]
  },
  {
   "cell_type": "markdown",
   "metadata": {},
   "source": [
    "Task 12: Declare a function called categorize_countries that returns a list of countries with some common pattern (you can find the countries list in this repository as countries.js(eg 'land', 'ia', 'island', 'stan'))."
   ]
  },
  {
   "cell_type": "code",
   "execution_count": null,
   "metadata": {},
   "outputs": [],
   "source": [
    "countries = [\n",
    "  'Afghanistan',\n",
    "  'Albania',\n",
    "  'Algeria',\n",
    "  'Andorra',\n",
    "  'Angola',\n",
    "  'Antigua and Barbuda',\n",
    "  'Argentina',\n",
    "  'Armenia',\n",
    "  'Australia',\n",
    "  'Austria',\n",
    "  'Azerbaijan',\n",
    "  'Bahamas',\n",
    "  'Bahrain',\n",
    "  'Bangladesh',\n",
    "  'Barbados',\n",
    "  'Belarus',\n",
    "  'Belgium',\n",
    "  'Belize',\n",
    "  'Benin',\n",
    "  'Bhutan',\n",
    "  'Bolivia',\n",
    "  'Bosnia and Herzegovina',\n",
    "  'Botswana',\n",
    "  'Brazil',\n",
    "  'Brunei',\n",
    "  'Bulgaria',\n",
    "  'Burkina Faso',\n",
    "  'Burundi',\n",
    "  'Cambodia',\n",
    "  'Cameroon',\n",
    "  'Canada',\n",
    "  'Cape Verde',\n",
    "  'Central African Republic',\n",
    "  'Chad',\n",
    "  'Chile',\n",
    "  'China',\n",
    "  'Colombi',\n",
    "  'Comoros',\n",
    "  'Congo (Brazzaville)',\n",
    "  'Congo',\n",
    "  'Costa Rica',\n",
    "  \"Cote d'Ivoire\",\n",
    "  'Croatia',\n",
    "  'Cuba',\n",
    "  'Cyprus',\n",
    "  'Czech Republic',\n",
    "  'Denmark',\n",
    "  'Djibouti',\n",
    "  'Dominica',\n",
    "  'Dominican Republic',\n",
    "  'East Timor (Timor Timur)',\n",
    "  'Ecuador',\n",
    "  'Egypt',\n",
    "  'El Salvador',\n",
    "  'Equatorial Guinea',\n",
    "  'Eritrea',\n",
    "  'Estonia',\n",
    "  'Ethiopia',\n",
    "  'Fiji',\n",
    "  'Finland',\n",
    "  'France',\n",
    "  'Gabon',\n",
    "  'Gambia, The',\n",
    "  'Georgia',\n",
    "  'Germany',\n",
    "  'Ghana',\n",
    "  'Greece',\n",
    "  'Grenada',\n",
    "  'Guatemala',\n",
    "  'Guinea',\n",
    "  'Guinea-Bissau',\n",
    "  'Guyana',\n",
    "  'Haiti',\n",
    "  'Honduras',\n",
    "  'Hungary',\n",
    "  'Iceland',\n",
    "  'India',\n",
    "  'Indonesia',\n",
    "  'Iran',\n",
    "  'Iraq',\n",
    "  'Ireland',\n",
    "  'Israel',\n",
    "  'Italy',\n",
    "  'Jamaica',\n",
    "  'Japan',\n",
    "  'Jordan',\n",
    "  'Kazakhstan',\n",
    "  'Kenya',\n",
    "  'Kiribati',\n",
    "  'Korea, North',\n",
    "  'Korea, South',\n",
    "  'Kuwait',\n",
    "  'Kyrgyzstan',\n",
    "  'Laos',\n",
    "  'Latvia',\n",
    "  'Lebanon',\n",
    "  'Lesotho',\n",
    "  'Liberia',\n",
    "  'Libya',\n",
    "  'Liechtenstein',\n",
    "  'Lithuania',\n",
    "  'Luxembourg',\n",
    "  'Macedonia',\n",
    "  'Madagascar',\n",
    "  'Malawi',\n",
    "  'Malaysia',\n",
    "  'Maldives',\n",
    "  'Mali',\n",
    "  'Malta',\n",
    "  'Marshall Islands',\n",
    "  'Mauritania',\n",
    "  'Mauritius',\n",
    "  'Mexico',\n",
    "  'Micronesia',\n",
    "  'Moldova',\n",
    "  'Monaco',\n",
    "  'Mongolia',\n",
    "  'Morocco',\n",
    "  'Mozambique',\n",
    "  'Myanmar',\n",
    "  'Namibia',\n",
    "  'Nauru',\n",
    "  'Nepal',\n",
    "  'Netherlands',\n",
    "  'New Zealand',\n",
    "  'Nicaragua',\n",
    "  'Niger',\n",
    "  'Nigeria',\n",
    "  'Norway',\n",
    "  'Oman',\n",
    "  'Pakistan',\n",
    "  'Palau',\n",
    "  'Panama',\n",
    "  'Papua New Guinea',\n",
    "  'Paraguay',\n",
    "  'Peru',\n",
    "  'Philippines',\n",
    "  'Poland',\n",
    "  'Portugal',\n",
    "  'Qatar',\n",
    "  'Romania',\n",
    "  'Russia',\n",
    "  'Rwanda',\n",
    "  'Saint Kitts and Nevis',\n",
    "  'Saint Lucia',\n",
    "  'Saint Vincent',\n",
    "  'Samoa',\n",
    "  'San Marino',\n",
    "  'Sao Tome and Principe',\n",
    "  'Saudi Arabia',\n",
    "  'Senegal',\n",
    "  'Serbia and Montenegro',\n",
    "  'Seychelles',\n",
    "  'Sierra Leone',\n",
    "  'Singapore',\n",
    "  'Slovakia',\n",
    "  'Slovenia',\n",
    "  'Solomon Islands',\n",
    "  'Somalia',\n",
    "  'South Africa',\n",
    "  'Spain',\n",
    "  'Sri Lanka',\n",
    "  'Sudan',\n",
    "  'Suriname',\n",
    "  'Swaziland',\n",
    "  'Sweden',\n",
    "  'Switzerland',\n",
    "  'Syria',\n",
    "  'Taiwan',\n",
    "  'Tajikistan',\n",
    "  'Tanzania',\n",
    "  'Thailand',\n",
    "  'Togo',\n",
    "  'Tonga',\n",
    "  'Trinidad and Tobago',\n",
    "  'Tunisia',\n",
    "  'Turkey',\n",
    "  'Turkmenistan',\n",
    "  'Tuvalu',\n",
    "  'Uganda',\n",
    "  'Ukraine',\n",
    "  'United Arab Emirates',\n",
    "  'United Kingdom',\n",
    "  'United States',\n",
    "  'Uruguay',\n",
    "  'Uzbekistan',\n",
    "  'Vanuatu',\n",
    "  'Vatican City',\n",
    "  'Venezuela',\n",
    "  'Vietnam',\n",
    "  'Yemen',\n",
    "  'Zambia',\n",
    "  'Zimbabwe',\n",
    "]\n",
    "def categorize_countries(countries):\n",
    "    categories = {}\n",
    "    for country in countries:\n",
    "        if 'land' in country:\n",
    "            if 'land' in categories:\n",
    "                categories['land'].append(country)\n",
    "            else:\n",
    "                categories['land'] = [country]\n",
    "        elif 'stan' in country:\n",
    "            if 'stan' in categories:\n",
    "                categories['stan'].append(country)\n",
    "            else:\n",
    "                categories['stan'] = [country]\n",
    "        elif 'ia' in country:\n",
    "            if 'ia' in categories:\n",
    "                categories['ia'].append(country)\n",
    "            else:\n",
    "                categories['ia'] = [country]\n",
    "    list_of_categories = [{'Pattern': k, 'Countries': v} for k\n",
    "                          , v in categories.items()]\n",
    "    return list_of_categories\n",
    "categorize_countries(countries)"
   ]
  },
  {
   "cell_type": "markdown",
   "metadata": {},
   "source": [
    "Task 13: Create a function returning a dictionary, where keys stand for starting letters of countries and values are the number of country names starting with that letter."
   ]
  },
  {
   "cell_type": "code",
   "execution_count": null,
   "metadata": {},
   "outputs": [],
   "source": [
    "def countries_counter(countries):\n",
    "    countries_count = {}\n",
    "    for country in countries:\n",
    "        if country[0] in countries_count:\n",
    "            countries_count[country[0]] += 1\n",
    "        else:\n",
    "            countries_count[country[0]] = 1\n",
    "    return countries_count\n",
    "countries_count = countries_counter(countries)\n",
    "print(countries_count)"
   ]
  },
  {
   "cell_type": "markdown",
   "metadata": {},
   "source": [
    "Task 14: Declare a get_first_ten_countries function - it returns a list of first ten countries from the countries.js list in the data folder."
   ]
  },
  {
   "cell_type": "code",
   "execution_count": null,
   "metadata": {},
   "outputs": [],
   "source": [
    "def get_firt_ten_countries(countries):\n",
    "    return countries[:10]\n",
    "first_ten_countries = get_firt_ten_countries(countries)\n",
    "print(first_ten_countries)"
   ]
  },
  {
   "cell_type": "markdown",
   "metadata": {},
   "source": [
    "Task 15: Declare a get_last_ten_countries function that returns the last ten countries in the countries list."
   ]
  },
  {
   "cell_type": "code",
   "execution_count": null,
   "metadata": {},
   "outputs": [],
   "source": [
    "def get_last_ten_countries(countries):\n",
    "    return countries[-10:]\n",
    "last_ten_countries = get_last_ten_countries(countries)\n",
    "print(last_ten_countries)"
   ]
  },
  {
   "cell_type": "markdown",
   "metadata": {},
   "source": [
    "### Exercises: Level 3"
   ]
  },
  {
   "cell_type": "markdown",
   "metadata": {},
   "source": [
    "Task 1: Use the countries_data.py (https://github.com/Asabeneh/30-Days-Of-Python/blob/master/data/countries-data.py) file and follow the tasks below:"
   ]
  },
  {
   "cell_type": "markdown",
   "metadata": {},
   "source": [
    "- Sort countries by name, by capital, by population"
   ]
  },
  {
   "cell_type": "code",
   "execution_count": null,
   "metadata": {},
   "outputs": [],
   "source": [
    "# First import countries_data\n",
    "from countries_data import countries_data\n",
    "\n",
    "# Sort countries by name\n",
    "sorted_by_name = sorted(countries_data, key=lambda x: x['name'])\n",
    "print(\"Countries sorted by name:\")\n",
    "for country in sorted_by_name:\n",
    "    print(country['name'])\n",
    "\n",
    "# Sort countries by capital\n",
    "sorted_by_capital = sorted(countries_data, key=lambda x: x['capital'])\n",
    "print(\"\\nCountries sorted by capital:\")\n",
    "for country in sorted_by_capital:\n",
    "    print(country['capital'])\n",
    "\n",
    "# Sort countries by population\n",
    "sorted_by_population = sorted(countries_data, key=lambda x: x['population'])\n",
    "print(\"\\nCountries sorted by population:\")\n",
    "for country in sorted_by_population:\n",
    "    print(f\"{country['name']}: {country['population']}\")"
   ]
  },
  {
   "cell_type": "markdown",
   "metadata": {},
   "source": [
    "- Sort out the ten most spoken languages by location."
   ]
  },
  {
   "cell_type": "code",
   "execution_count": null,
   "metadata": {},
   "outputs": [],
   "source": [
    "from collections import Counter\n",
    "\n",
    "# Extract all languages from countries_data\n",
    "all_languages = [language for country in countries_data for\n",
    "                    language in country['languages']]\n",
    "\n",
    "# Count the occurrences of each language\n",
    "language_counts = Counter(all_languages)\n",
    "\n",
    "# Get the ten most common languages\n",
    "most_common_languages = language_counts.most_common(10)\n",
    "\n",
    "# Print the results\n",
    "print(\"The ten most spoken languages by location are:\")\n",
    "for language, count in most_common_languages:\n",
    "    print(f\"{language}: {count} countries\")"
   ]
  },
  {
   "cell_type": "markdown",
   "metadata": {},
   "source": [
    "- Sort out the ten most populated countries."
   ]
  },
  {
   "cell_type": "code",
   "execution_count": null,
   "metadata": {},
   "outputs": [],
   "source": [
    "def most_populated_countries(countries_data):\n",
    "    sorted_countries = sorted(countries_data, key=lambda x: x[\"population\"]\n",
    "                              , reverse=True)\n",
    "    return sorted_countries[:10]\n",
    "top_10_populated_countries = most_populated_countries(countries_data)\n",
    "for country in top_10_populated_countries:\n",
    "    print(f\"{country['name']}: {country['population']}\")"
   ]
  }
 ],
 "metadata": {
  "kernelspec": {
   "display_name": "Python 3",
   "language": "python",
   "name": "python3"
  },
  "language_info": {
   "codemirror_mode": {
    "name": "ipython",
    "version": 3
   },
   "file_extension": ".py",
   "mimetype": "text/x-python",
   "name": "python",
   "nbconvert_exporter": "python",
   "pygments_lexer": "ipython3",
   "version": "3.11.0"
  }
 },
 "nbformat": 4,
 "nbformat_minor": 2
}
